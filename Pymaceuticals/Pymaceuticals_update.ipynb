{
 "cells": [
  {
   "cell_type": "markdown",
   "metadata": {},
   "source": [
    "# Observations and Insights"
   ]
  },
  {
   "cell_type": "markdown",
   "metadata": {},
   "source": [
    "## Look across all the generated figures and tables and write at least three observations or inferences that can be made from the data.\n",
    "\n",
    "### Observation 1\n",
    "### Based off of Mouse-l509's treatment with Capomulin, the tumor volume decreased without affecting his                        weight. Will also need to make a comparison with a female mouse to see if the same outcome occured with this          medication.\n",
    "\n",
    "### Observation 2\n",
    "### The mouse distribution for each drug regimen was uneven. The maximum number of mice for Capomulin was            230 and the minimum was 161 for the Propriva regimen. The study might be more concrete if the number of mice        was the same for all regimens.\n",
    "\n",
    "### Observation 3\n",
    "###"
   ]
  },
  {
   "cell_type": "markdown",
   "metadata": {},
   "source": [
    "# Dependencies and starter code"
   ]
  },
  {
   "cell_type": "code",
   "execution_count": 1,
   "metadata": {},
   "outputs": [],
   "source": [
    "# Dependencies and Setup\n",
    "import matplotlib.pyplot as plt\n",
    "import pandas as pd\n",
    "import scipy.stats as st\n",
    "from scipy.stats import sem\n",
    "from scipy.stats import linregress\n",
    "import numpy as np"
   ]
  },
  {
   "cell_type": "code",
   "execution_count": 2,
   "metadata": {},
   "outputs": [
    {
     "data": {
      "text/html": [
       "<div>\n",
       "<style scoped>\n",
       "    .dataframe tbody tr th:only-of-type {\n",
       "        vertical-align: middle;\n",
       "    }\n",
       "\n",
       "    .dataframe tbody tr th {\n",
       "        vertical-align: top;\n",
       "    }\n",
       "\n",
       "    .dataframe thead th {\n",
       "        text-align: right;\n",
       "    }\n",
       "</style>\n",
       "<table border=\"1\" class=\"dataframe\">\n",
       "  <thead>\n",
       "    <tr style=\"text-align: right;\">\n",
       "      <th></th>\n",
       "      <th>Mouse ID</th>\n",
       "      <th>Drug Regimen</th>\n",
       "      <th>Sex</th>\n",
       "      <th>Age_months</th>\n",
       "      <th>Weight (g)</th>\n",
       "      <th>Timepoint</th>\n",
       "      <th>Tumor Volume (mm3)</th>\n",
       "      <th>Metastatic Sites</th>\n",
       "    </tr>\n",
       "  </thead>\n",
       "  <tbody>\n",
       "    <tr>\n",
       "      <th>0</th>\n",
       "      <td>k403</td>\n",
       "      <td>Ramicane</td>\n",
       "      <td>Male</td>\n",
       "      <td>21</td>\n",
       "      <td>16</td>\n",
       "      <td>0</td>\n",
       "      <td>45.000000</td>\n",
       "      <td>0</td>\n",
       "    </tr>\n",
       "    <tr>\n",
       "      <th>1</th>\n",
       "      <td>k403</td>\n",
       "      <td>Ramicane</td>\n",
       "      <td>Male</td>\n",
       "      <td>21</td>\n",
       "      <td>16</td>\n",
       "      <td>5</td>\n",
       "      <td>38.825898</td>\n",
       "      <td>0</td>\n",
       "    </tr>\n",
       "    <tr>\n",
       "      <th>2</th>\n",
       "      <td>k403</td>\n",
       "      <td>Ramicane</td>\n",
       "      <td>Male</td>\n",
       "      <td>21</td>\n",
       "      <td>16</td>\n",
       "      <td>10</td>\n",
       "      <td>35.014271</td>\n",
       "      <td>1</td>\n",
       "    </tr>\n",
       "    <tr>\n",
       "      <th>3</th>\n",
       "      <td>k403</td>\n",
       "      <td>Ramicane</td>\n",
       "      <td>Male</td>\n",
       "      <td>21</td>\n",
       "      <td>16</td>\n",
       "      <td>15</td>\n",
       "      <td>34.223992</td>\n",
       "      <td>1</td>\n",
       "    </tr>\n",
       "    <tr>\n",
       "      <th>4</th>\n",
       "      <td>k403</td>\n",
       "      <td>Ramicane</td>\n",
       "      <td>Male</td>\n",
       "      <td>21</td>\n",
       "      <td>16</td>\n",
       "      <td>20</td>\n",
       "      <td>32.997729</td>\n",
       "      <td>1</td>\n",
       "    </tr>\n",
       "  </tbody>\n",
       "</table>\n",
       "</div>"
      ],
      "text/plain": [
       "  Mouse ID Drug Regimen   Sex  Age_months  Weight (g)  Timepoint  \\\n",
       "0     k403     Ramicane  Male          21          16          0   \n",
       "1     k403     Ramicane  Male          21          16          5   \n",
       "2     k403     Ramicane  Male          21          16         10   \n",
       "3     k403     Ramicane  Male          21          16         15   \n",
       "4     k403     Ramicane  Male          21          16         20   \n",
       "\n",
       "   Tumor Volume (mm3)  Metastatic Sites  \n",
       "0           45.000000                 0  \n",
       "1           38.825898                 0  \n",
       "2           35.014271                 1  \n",
       "3           34.223992                 1  \n",
       "4           32.997729                 1  "
      ]
     },
     "execution_count": 2,
     "metadata": {},
     "output_type": "execute_result"
    }
   ],
   "source": [
    "# Importing study data files\n",
    "mouse_metadata = \"data/Mouse_metadata.csv\"\n",
    "study_results = \"data/Study_results.csv\"\n",
    "\n",
    "# Read the mouse data and the study results\n",
    "mouse_metadata = pd.read_csv(mouse_metadata)\n",
    "study_results = pd.read_csv(study_results)\n",
    "\n",
    "# Combine the data into a single dataset\n",
    "mouse_study_df = pd.merge(mouse_metadata, study_results, on=\"Mouse ID\")\n",
    "mouse_study_df.head()"
   ]
  },
  {
   "cell_type": "markdown",
   "metadata": {},
   "source": [
    "# Summary statistics"
   ]
  },
  {
   "cell_type": "code",
   "execution_count": 3,
   "metadata": {},
   "outputs": [
    {
     "data": {
      "text/html": [
       "<div>\n",
       "<style scoped>\n",
       "    .dataframe tbody tr th:only-of-type {\n",
       "        vertical-align: middle;\n",
       "    }\n",
       "\n",
       "    .dataframe tbody tr th {\n",
       "        vertical-align: top;\n",
       "    }\n",
       "\n",
       "    .dataframe thead th {\n",
       "        text-align: right;\n",
       "    }\n",
       "</style>\n",
       "<table border=\"1\" class=\"dataframe\">\n",
       "  <thead>\n",
       "    <tr style=\"text-align: right;\">\n",
       "      <th></th>\n",
       "      <th>Drug Regimen</th>\n",
       "      <th>TV_Mean</th>\n",
       "      <th>TV_Median</th>\n",
       "      <th>TV_Varience</th>\n",
       "      <th>TV_Standard Dev.</th>\n",
       "      <th>TV_Standard Error M</th>\n",
       "    </tr>\n",
       "  </thead>\n",
       "  <tbody>\n",
       "    <tr>\n",
       "      <th>0</th>\n",
       "      <td>Capomulin</td>\n",
       "      <td>40.675741</td>\n",
       "      <td>41.557809</td>\n",
       "      <td>24.947764</td>\n",
       "      <td>4.994774</td>\n",
       "      <td>0.329346</td>\n",
       "    </tr>\n",
       "    <tr>\n",
       "      <th>1</th>\n",
       "      <td>Ceftamin</td>\n",
       "      <td>52.591172</td>\n",
       "      <td>51.776157</td>\n",
       "      <td>39.290177</td>\n",
       "      <td>6.268188</td>\n",
       "      <td>0.469821</td>\n",
       "    </tr>\n",
       "    <tr>\n",
       "      <th>2</th>\n",
       "      <td>Infubinol</td>\n",
       "      <td>52.884795</td>\n",
       "      <td>51.820584</td>\n",
       "      <td>43.128684</td>\n",
       "      <td>6.567243</td>\n",
       "      <td>0.492236</td>\n",
       "    </tr>\n",
       "    <tr>\n",
       "      <th>3</th>\n",
       "      <td>Ketapril</td>\n",
       "      <td>55.235638</td>\n",
       "      <td>53.698743</td>\n",
       "      <td>68.553577</td>\n",
       "      <td>8.279709</td>\n",
       "      <td>0.603860</td>\n",
       "    </tr>\n",
       "    <tr>\n",
       "      <th>4</th>\n",
       "      <td>Naftisol</td>\n",
       "      <td>54.331565</td>\n",
       "      <td>52.509285</td>\n",
       "      <td>66.173479</td>\n",
       "      <td>8.134708</td>\n",
       "      <td>0.596466</td>\n",
       "    </tr>\n",
       "    <tr>\n",
       "      <th>5</th>\n",
       "      <td>Placebo</td>\n",
       "      <td>54.033581</td>\n",
       "      <td>52.288934</td>\n",
       "      <td>61.168083</td>\n",
       "      <td>7.821003</td>\n",
       "      <td>0.581331</td>\n",
       "    </tr>\n",
       "    <tr>\n",
       "      <th>6</th>\n",
       "      <td>Propriva</td>\n",
       "      <td>52.322552</td>\n",
       "      <td>50.854632</td>\n",
       "      <td>42.351070</td>\n",
       "      <td>6.507770</td>\n",
       "      <td>0.512884</td>\n",
       "    </tr>\n",
       "    <tr>\n",
       "      <th>7</th>\n",
       "      <td>Ramicane</td>\n",
       "      <td>40.216745</td>\n",
       "      <td>40.673236</td>\n",
       "      <td>23.486704</td>\n",
       "      <td>4.846308</td>\n",
       "      <td>0.320955</td>\n",
       "    </tr>\n",
       "    <tr>\n",
       "      <th>8</th>\n",
       "      <td>Stelasyn</td>\n",
       "      <td>54.233149</td>\n",
       "      <td>52.431737</td>\n",
       "      <td>59.450562</td>\n",
       "      <td>7.710419</td>\n",
       "      <td>0.573111</td>\n",
       "    </tr>\n",
       "    <tr>\n",
       "      <th>9</th>\n",
       "      <td>Zoniferol</td>\n",
       "      <td>53.236507</td>\n",
       "      <td>51.818479</td>\n",
       "      <td>48.533355</td>\n",
       "      <td>6.966589</td>\n",
       "      <td>0.516398</td>\n",
       "    </tr>\n",
       "  </tbody>\n",
       "</table>\n",
       "</div>"
      ],
      "text/plain": [
       "  Drug Regimen    TV_Mean  TV_Median  TV_Varience  TV_Standard Dev.  \\\n",
       "0    Capomulin  40.675741  41.557809    24.947764          4.994774   \n",
       "1     Ceftamin  52.591172  51.776157    39.290177          6.268188   \n",
       "2    Infubinol  52.884795  51.820584    43.128684          6.567243   \n",
       "3     Ketapril  55.235638  53.698743    68.553577          8.279709   \n",
       "4     Naftisol  54.331565  52.509285    66.173479          8.134708   \n",
       "5      Placebo  54.033581  52.288934    61.168083          7.821003   \n",
       "6     Propriva  52.322552  50.854632    42.351070          6.507770   \n",
       "7     Ramicane  40.216745  40.673236    23.486704          4.846308   \n",
       "8     Stelasyn  54.233149  52.431737    59.450562          7.710419   \n",
       "9    Zoniferol  53.236507  51.818479    48.533355          6.966589   \n",
       "\n",
       "   TV_Standard Error M  \n",
       "0             0.329346  \n",
       "1             0.469821  \n",
       "2             0.492236  \n",
       "3             0.603860  \n",
       "4             0.596466  \n",
       "5             0.581331  \n",
       "6             0.512884  \n",
       "7             0.320955  \n",
       "8             0.573111  \n",
       "9             0.516398  "
      ]
     },
     "execution_count": 3,
     "metadata": {},
     "output_type": "execute_result"
    }
   ],
   "source": [
    "# Generate a summary statistics table of the tumor volume for each drug regimen.\n",
    "# It should consist of mean, median, variance, standard deviation, and SEM\n",
    "\n",
    "\n",
    "# Make dataframe with drug regimen and tumor volume. Set drug regimen as index.\n",
    "reg_df = mouse_study_df[['Drug Regimen', 'Tumor Volume (mm3)']]\n",
    "\n",
    "# Filter data to make summary stats\n",
    "tv_mean = reg_df.groupby('Drug Regimen').mean()['Tumor Volume (mm3)']\n",
    "tv_median = reg_df.groupby('Drug Regimen').median()['Tumor Volume (mm3)']\n",
    "tv_var = reg_df.groupby('Drug Regimen').var()['Tumor Volume (mm3)']\n",
    "tv_std = reg_df.groupby('Drug Regimen').std()['Tumor Volume (mm3)']\n",
    "tv_sem = reg_df.groupby('Drug Regimen').sem()['Tumor Volume (mm3)']\n",
    "\n",
    "# Combine all the stats into a dataframe. Rename the columns\n",
    "tv_stats = pd.DataFrame({\"TV_Mean\": tv_mean, \"TV_Median\": tv_median, \"TV_Varience\": tv_var, \n",
    "                         \"TV_Standard Dev.\": tv_std, \"TV_Standard Error M\": tv_sem})\n",
    "tv_stats.reset_index()"
   ]
  },
  {
   "cell_type": "markdown",
   "metadata": {},
   "source": [
    "# Bar plots"
   ]
  },
  {
   "cell_type": "code",
   "execution_count": 4,
   "metadata": {},
   "outputs": [
    {
     "data": {
      "text/plain": [
       "Text(0, 0.5, 'Mouse Count')"
      ]
     },
     "execution_count": 4,
     "metadata": {},
     "output_type": "execute_result"
    },
    {
     "data": {
      "image/png": "[encoded data removed]",
      "text/plain": [
       "<Figure size 432x288 with 1 Axes>"
      ]
     },
     "metadata": {
      "needs_background": "light"
     },
     "output_type": "display_data"
    }
   ],
   "source": [
    "# Generate a bar plot using Pandas's DataFrame.plot() that shows the number of data points for each treatment regimen.\n",
    "\n",
    "# Make a dataframe of the total mice per drug regimen while creating bar chart\n",
    "mice_total_df = mouse_study_df[\"Drug Regimen\"].value_counts().plot(kind='bar', title=\"Number of Mice per Drug Regimen\")\n",
    "\n",
    "# Make a labels for x and y\n",
    "plt.xlabel(\"Drug Regimen\")\n",
    "plt.ylabel(\"Mouse Count\")"
   ]
  },
  {
   "cell_type": "code",
   "execution_count": 5,
   "metadata": {},
   "outputs": [
    {
     "data": {
      "text/plain": [
       "Text(0, 0.5, 'Mouse count')"
      ]
     },
     "execution_count": 5,
     "metadata": {},
     "output_type": "execute_result"
    },
    {
     "data": {
      "image/png": "[encoded data removed]",
      "text/plain": [
       "<Figure size 432x288 with 1 Axes>"
      ]
     },
     "metadata": {
      "needs_background": "light"
     },
     "output_type": "display_data"
    }
   ],
   "source": [
    "# Generate a bar plot using both Matplotlib's pyplot that shows the number of data points for each treatment regimen.\n",
    "\n",
    "# Make variables for drug regimen and mouse count\n",
    "drugs = ['Capomulin','Ramicane', 'Ketapril', 'Naftisol','Zoniferol', \n",
    "         'Stelasyn','Placebo','Ceftamin','Infubinol', 'Propriva']\n",
    "mice_count = [230, 228, 188, 186, 182, 181, 181, 178, 178, 161]\n",
    "x_axis = np.arange(len(mice_count))\n",
    "\n",
    "# Creating bar chart based on values above. Add tick marks.\n",
    "plt.bar(x_axis, mice_count, color=\"lightpink\", align=\"center\",)\n",
    "tick_locations = [value for value in x_axis]\n",
    "plt.xticks(tick_locations, drugs, rotation='vertical')\n",
    "\n",
    "# Label the chart's title, x and y axises\n",
    "plt.title(\"Number of Mice per Drug Regimen\")\n",
    "plt.xlabel(\"Drug Regimen\")\n",
    "plt.ylabel(\"Mouse count\")"
   ]
  },
  {
   "cell_type": "markdown",
   "metadata": {},
   "source": [
    "# Pie plots"
   ]
  },
  {
   "cell_type": "code",
   "execution_count": 6,
   "metadata": {},
   "outputs": [
    {
     "data": {
      "text/plain": [
       "Text(0.5, 1.0, 'Percentage of Female & Male Mice in Study')"
      ]
     },
     "execution_count": 6,
     "metadata": {},
     "output_type": "execute_result"
    },
    {
     "data": {
      "image/png": "[encoded data removed]",
      "text/plain": [
       "<Figure size 432x288 with 1 Axes>"
      ]
     },
     "metadata": {},
     "output_type": "display_data"
    }
   ],
   "source": [
    "# Generate a pie plot using Matplotlib's pyplot that shows the distribution of female or male mice in the study.\n",
    "\n",
    "# Make variables for sex and mouse population lables\n",
    "sex = ['Male','Female']\n",
    "mouse_samp = [958,935]\n",
    "\n",
    "# Colors for each section\n",
    "colors = ['lightpink', 'lightskyblue']\n",
    "\n",
    "# Creating pie chart based on values above with percentages. Add title.\n",
    "plt.pie(mouse_samp, colors=colors, autopct=\"%1.1f%%\", startangle=90)\n",
    "plt.legend(loc='upper right', labels=sex, bbox_to_anchor=(1.3,0.7))\n",
    "plt.title(\"Percentage of Female & Male Mice in Study\")"
   ]
  },
  {
   "cell_type": "code",
   "execution_count": 7,
   "metadata": {},
   "outputs": [
    {
     "data": {
      "text/plain": [
       "Text(0.5, 1.0, 'Percentage of Female & Male Mice in Study')"
      ]
     },
     "execution_count": 7,
     "metadata": {},
     "output_type": "execute_result"
    },
    {
     "data": {
      "image/png": "[encoded data removed]",
      "text/plain": [
       "<Figure size 432x288 with 1 Axes>"
      ]
     },
     "metadata": {},
     "output_type": "display_data"
    }
   ],
   "source": [
    "# Generate a pie plot using both Pandas's DataFrame.plot() shows the distribution of female or male mice in the study.\n",
    "\n",
    "mouse_study_df['Sex'].value_counts().plot(kind='pie', autopct=\"%1.1f%%\", startangle=90)\n",
    "\n",
    "plt.title(\"Percentage of Female & Male Mice in Study\")"
   ]
  },
  {
   "cell_type": "markdown",
   "metadata": {},
   "source": [
    "# Quartiles, outliers and boxplots"
   ]
  },
  {
   "cell_type": "code",
   "execution_count": 8,
   "metadata": {
    "scrolled": true
   },
   "outputs": [
    {
     "data": {
      "text/html": [
       "<div>\n",
       "<style scoped>\n",
       "    .dataframe tbody tr th:only-of-type {\n",
       "        vertical-align: middle;\n",
       "    }\n",
       "\n",
       "    .dataframe tbody tr th {\n",
       "        vertical-align: top;\n",
       "    }\n",
       "\n",
       "    .dataframe thead th {\n",
       "        text-align: right;\n",
       "    }\n",
       "</style>\n",
       "<table border=\"1\" class=\"dataframe\">\n",
       "  <thead>\n",
       "    <tr style=\"text-align: right;\">\n",
       "      <th></th>\n",
       "      <th>Mouse ID</th>\n",
       "      <th>Timepoint</th>\n",
       "      <th>Tumor Volume (mm3)</th>\n",
       "    </tr>\n",
       "    <tr>\n",
       "      <th>Drug Regimen</th>\n",
       "      <th></th>\n",
       "      <th></th>\n",
       "      <th></th>\n",
       "    </tr>\n",
       "  </thead>\n",
       "  <tbody>\n",
       "    <tr>\n",
       "      <th>Capomulin</th>\n",
       "      <td>s185</td>\n",
       "      <td>45</td>\n",
       "      <td>23.343598</td>\n",
       "    </tr>\n",
       "    <tr>\n",
       "      <th>Capomulin</th>\n",
       "      <td>x401</td>\n",
       "      <td>45</td>\n",
       "      <td>28.484033</td>\n",
       "    </tr>\n",
       "    <tr>\n",
       "      <th>Capomulin</th>\n",
       "      <td>m601</td>\n",
       "      <td>45</td>\n",
       "      <td>28.430964</td>\n",
       "    </tr>\n",
       "    <tr>\n",
       "      <th>Capomulin</th>\n",
       "      <td>u364</td>\n",
       "      <td>45</td>\n",
       "      <td>31.023923</td>\n",
       "    </tr>\n",
       "    <tr>\n",
       "      <th>Capomulin</th>\n",
       "      <td>y793</td>\n",
       "      <td>45</td>\n",
       "      <td>31.896238</td>\n",
       "    </tr>\n",
       "    <tr>\n",
       "      <th>...</th>\n",
       "      <td>...</td>\n",
       "      <td>...</td>\n",
       "      <td>...</td>\n",
       "    </tr>\n",
       "    <tr>\n",
       "      <th>Ramicane</th>\n",
       "      <td>a411</td>\n",
       "      <td>45</td>\n",
       "      <td>38.407618</td>\n",
       "    </tr>\n",
       "    <tr>\n",
       "      <th>Ramicane</th>\n",
       "      <td>e662</td>\n",
       "      <td>45</td>\n",
       "      <td>40.659006</td>\n",
       "    </tr>\n",
       "    <tr>\n",
       "      <th>Ramicane</th>\n",
       "      <td>u196</td>\n",
       "      <td>45</td>\n",
       "      <td>40.667713</td>\n",
       "    </tr>\n",
       "    <tr>\n",
       "      <th>Ramicane</th>\n",
       "      <td>q597</td>\n",
       "      <td>45</td>\n",
       "      <td>45.220869</td>\n",
       "    </tr>\n",
       "    <tr>\n",
       "      <th>Ramicane</th>\n",
       "      <td>a444</td>\n",
       "      <td>45</td>\n",
       "      <td>43.047543</td>\n",
       "    </tr>\n",
       "  </tbody>\n",
       "</table>\n",
       "<p>63 rows × 3 columns</p>\n",
       "</div>"
      ],
      "text/plain": [
       "             Mouse ID  Timepoint  Tumor Volume (mm3)\n",
       "Drug Regimen                                        \n",
       "Capomulin        s185         45           23.343598\n",
       "Capomulin        x401         45           28.484033\n",
       "Capomulin        m601         45           28.430964\n",
       "Capomulin        u364         45           31.023923\n",
       "Capomulin        y793         45           31.896238\n",
       "...               ...        ...                 ...\n",
       "Ramicane         a411         45           38.407618\n",
       "Ramicane         e662         45           40.659006\n",
       "Ramicane         u196         45           40.667713\n",
       "Ramicane         q597         45           45.220869\n",
       "Ramicane         a444         45           43.047543\n",
       "\n",
       "[63 rows x 3 columns]"
      ]
     },
     "execution_count": 8,
     "metadata": {},
     "output_type": "execute_result"
    }
   ],
   "source": [
    "# Calculate the final tumor volume of each mouse across four of the most promising treatment regimens.\n",
    "# The four Drug Regimens: Capomulin, Ramicane, Infubinol, and Ceftamin. \n",
    "\n",
    "# Filter for the 4 regimens with loc\n",
    "regimens = mouse_study_df[['Mouse ID', 'Timepoint','Drug Regimen', 'Tumor Volume (mm3)']]\n",
    "regimens_df = regimens.set_index('Drug Regimen')\n",
    "four_regimens = regimens_df.loc[['Capomulin','Ceftamin','Infubinol','Ramicane'],['Mouse ID','Timepoint','Tumor Volume (mm3)']] \n",
    "\n",
    "# Filter for the max timepoint(45) for each mouse who took one of the 4 regimens\n",
    "timepoint_max = four_regimens.loc[four_regimens['Timepoint'] == 45]\n",
    "timepoint_max\n",
    "\n",
    "# switch columns and rows to prepare for the boxplot\n",
    "# timepoint_max.transpose()"
   ]
  },
  {
   "cell_type": "code",
   "execution_count": 9,
   "metadata": {},
   "outputs": [],
   "source": [
    "# Make df for all 4 regimiens to use for quartiles\n",
    "capolmulin = timepoint_max.loc[\"Capomulin\", :]\n",
    "ceftamin = timepoint_max.loc[\"Ceftamin\", :]\n",
    "infubinol = timepoint_max.loc[\"Infubinol\", :]\n",
    "ramicane = timepoint_max.loc[\"Ramicane\", :]"
   ]
  },
  {
   "cell_type": "code",
   "execution_count": 10,
   "metadata": {
    "scrolled": true
   },
   "outputs": [
    {
     "name": "stdout",
     "output_type": "stream",
     "text": [
      "...................Capomulin Quartile...................\n",
      "Lower quartile of final tumor volume (mm3): 32.37735684\n",
      "Upper quartile of final tumor volume (mm3): 40.1592203\n",
      "Interquartile range of final tumor volume (mm3): 7.781863460000004\n",
      "Median of final tumor volume (mm3): 37.31184577 \n",
      "Values below 20.70456164999999 and above 51.83201549 could be outliers.\n",
      "-------------------------------------------------------------------------\n",
      "...................Ceftamin Quartile...................\n",
      "Lower quartile of final tumor volume (mm3): 61.43389223\n",
      "Upper quartile of final tumor volume (mm3): 67.52748237\n",
      "Interquartile range of final tumor volume (mm3): 6.093590140000003\n",
      "Median of final tumor volume (mm3): 64.29983003 \n",
      "Values below 52.29350701999999 and above 76.66786758 could be outliers.\n",
      "-------------------------------------------------------------------------\n",
      "...................Infubinol Quartile...................\n",
      "Lower quartile of final tumor volume (mm3): 61.43389223\n",
      "Upper quartile of final tumor volume (mm3): 67.52748237\n",
      "Interquartile range of final tumor volume (mm3): 6.093590140000003\n",
      "Median of final tumor volume (mm3): 64.29983003 \n",
      "Values below 52.29350701999999 and above 76.66786758 could be outliers.\n",
      "-------------------------------------------------------------------------\n",
      "...................Ramicane Quartile...................\n",
      "Lower quartile of final tumor volume (mm3): 61.43389223\n",
      "Upper quartile of final tumor volume (mm3): 67.52748237\n",
      "Interquartile range of final tumor volume (mm3): 6.093590140000003\n",
      "Median of final tumor volume (mm3): 64.29983003 \n",
      "Values below 52.29350701999999 and above 76.66786758 could be outliers.\n",
      "-------------------------------------------------------------------------\n"
     ]
    }
   ],
   "source": [
    "# Calulating quartiles for final tumor volume (mm3). Final timepoint is at 45.\n",
    "\n",
    "# ------------------------------------CAPOLUMULIN--------------------------------------\n",
    "cap_vol = capolmulin[\"Tumor Volume (mm3)\"]\n",
    "cap_quartiles = cap_vol.quantile([.25,.5,.75])\n",
    "cap_lowerq = cap_quartiles[0.25]\n",
    "cap_upperq = cap_quartiles[0.75]\n",
    "cap_iqr = cap_upperq-cap_lowerq\n",
    "\n",
    "print(\"...................Capomulin Quartile...................\")\n",
    "print(f\"Lower quartile of final tumor volume (mm3): {cap_lowerq}\")\n",
    "print(f\"Upper quartile of final tumor volume (mm3): {cap_upperq}\")\n",
    "print(f\"Interquartile range of final tumor volume (mm3): {cap_iqr}\")\n",
    "print(f\"Median of final tumor volume (mm3): {cap_quartiles[0.5]} \")\n",
    "\n",
    "cap_lower_bound = cap_lowerq - (1.5*cap_iqr)\n",
    "cap_upper_bound = cap_upperq + (1.5*cap_iqr)\n",
    "print(f\"Values below {cap_lower_bound} and above {cap_upper_bound} could be outliers.\")\n",
    "print(\"-------------------------------------------------------------------------\")\n",
    "\n",
    "# ------------------------------------CEFTAMIN--------------------------------------\n",
    "ceft_vol = ceftamin[\"Tumor Volume (mm3)\"]\n",
    "ceft_quartiles = ceft_vol.quantile([.25,.5,.75])\n",
    "ceft_lowerq = ceft_quartiles[0.25]\n",
    "ceft_upperq = ceft_quartiles[0.75]\n",
    "ceft_iqr = ceft_upperq-ceft_lowerq\n",
    "\n",
    "print(\"...................Ceftamin Quartile...................\")\n",
    "print(f\"Lower quartile of final tumor volume (mm3): {ceft_lowerq}\")\n",
    "print(f\"Upper quartile of final tumor volume (mm3): {ceft_upperq}\")\n",
    "print(f\"Interquartile range of final tumor volume (mm3): {ceft_iqr}\")\n",
    "print(f\"Median of final tumor volume (mm3): {ceft_quartiles[0.5]} \")\n",
    "\n",
    "ceft_lower_bound = ceft_lowerq - (1.5*ceft_iqr)\n",
    "ceft_upper_bound = ceft_upperq + (1.5*ceft_iqr)\n",
    "print(f\"Values below {ceft_lower_bound} and above {ceft_upper_bound} could be outliers.\")\n",
    "print(\"-------------------------------------------------------------------------\")\n",
    "\n",
    "# ------------------------------------INFUBINOL--------------------------------------\n",
    "inf_vol = ceftamin[\"Tumor Volume (mm3)\"]\n",
    "inf_quartiles = inf_vol.quantile([.25,.5,.75])\n",
    "inf_lowerq = inf_quartiles[0.25]\n",
    "inf_upperq = inf_quartiles[0.75]\n",
    "inf_iqr = inf_upperq-inf_lowerq\n",
    "\n",
    "print(\"...................Infubinol Quartile...................\")\n",
    "print(f\"Lower quartile of final tumor volume (mm3): {inf_lowerq}\")\n",
    "print(f\"Upper quartile of final tumor volume (mm3): {inf_upperq}\")\n",
    "print(f\"Interquartile range of final tumor volume (mm3): {inf_iqr}\")\n",
    "print(f\"Median of final tumor volume (mm3): {inf_quartiles[0.5]} \")\n",
    "\n",
    "inf_lower_bound = inf_lowerq - (1.5*inf_iqr)\n",
    "inf_upper_bound = inf_upperq + (1.5*inf_iqr)\n",
    "print(f\"Values below {inf_lower_bound} and above {inf_upper_bound} could be outliers.\")\n",
    "print(\"-------------------------------------------------------------------------\")\n",
    "\n",
    "# ------------------------------------RAMICANE--------------------------------------\n",
    "rami_vol = ceftamin[\"Tumor Volume (mm3)\"]\n",
    "rami_quartiles = rami_vol.quantile([.25,.5,.75])\n",
    "rami_lowerq = rami_quartiles[0.25]\n",
    "rami_upperq = rami_quartiles[0.75]\n",
    "rami_iqr = rami_upperq-rami_lowerq\n",
    "\n",
    "print(\"...................Ramicane Quartile...................\")\n",
    "print(f\"Lower quartile of final tumor volume (mm3): {rami_lowerq}\")\n",
    "print(f\"Upper quartile of final tumor volume (mm3): {rami_upperq}\")\n",
    "print(f\"Interquartile range of final tumor volume (mm3): {rami_iqr}\")\n",
    "print(f\"Median of final tumor volume (mm3): {rami_quartiles[0.5]} \")\n",
    "\n",
    "rami_lower_bound = rami_lowerq - (1.5*rami_iqr)\n",
    "rami_upper_bound = rami_upperq + (1.5*rami_iqr)\n",
    "print(f\"Values below {rami_lower_bound} and above {rami_upper_bound} could be outliers.\")\n",
    "print(\"-------------------------------------------------------------------------\")"
   ]
  },
  {
   "cell_type": "code",
   "execution_count": 11,
   "metadata": {},
   "outputs": [
    {
     "data": {
      "text/plain": [
       "<matplotlib.axes._subplots.AxesSubplot at 0x191fc16b240>"
      ]
     },
     "execution_count": 11,
     "metadata": {},
     "output_type": "execute_result"
    },
    {
     "data": {
      "image/png": "[encoded data removed]",
      "text/plain": [
       "<Figure size 432x288 with 1 Axes>"
      ]
     },
     "metadata": {
      "needs_background": "light"
     },
     "output_type": "display_data"
    }
   ],
   "source": [
    "# Generate a box plot of the final tumor volume of each mouse across four regimens of interest\n",
    "\n",
    "timepoint_max.boxplot(by=\"Drug Regimen\", column=[\"Tumor Volume (mm3)\"], grid= False)"
   ]
  },
  {
   "cell_type": "markdown",
   "metadata": {},
   "source": [
    "# Line Plot"
   ]
  },
  {
   "cell_type": "code",
   "execution_count": 12,
   "metadata": {},
   "outputs": [
    {
     "data": {
      "image/png": "[encoded data removed]",
      "text/plain": [
       "<Figure size 432x288 with 1 Axes>"
      ]
     },
     "metadata": {
      "needs_background": "light"
     },
     "output_type": "display_data"
    }
   ],
   "source": [
    "# Generate a line plot of time point versus tumor volume for a mouse(mouse ID l509) treated with Capomulin\n",
    "\n",
    "# Create df for mouse 1509\n",
    "mouse_l509_df = mouse_study_df.loc[mouse_study_df[\"Mouse ID\"] == \"l509\"]\n",
    "\n",
    "# Filter mousel509 df for time point and tumor vol\n",
    "l509_time_vol = mouse_l509_df[['Mouse ID','Timepoint','Tumor Volume (mm3)']]\n",
    "\n",
    "# Set Mouse ID as index\n",
    "l509_time_vol.set_index(['Mouse ID'])\n",
    "\n",
    "#--------------------------------------------------------------------------------------------\n",
    "\n",
    "# Set axises for line plot\n",
    "x_axis = l509_time_vol[\"Timepoint\"]\n",
    "y_axis = l509_time_vol[\"Tumor Volume (mm3)\"]\n",
    "\n",
    "# Make line plot\n",
    "plt.plot(x_axis,y_axis)\n",
    "tick_points = [value for value in x_axis]\n",
    "plt.xticks(tick_points,x_axis)\n",
    "\n",
    "# Make labels for the graph\n",
    "plt.title(\"Relationship Between Mouse-l509's Timpoint and Tumor Volume\")\n",
    "plt.xlabel(\"Timepoint\")\n",
    "plt.ylabel(\"Tumor Vol. (mm3)\")\n",
    "\n",
    "plt.tight_layout()\n",
    "plt.show()"
   ]
  },
  {
   "cell_type": "markdown",
   "metadata": {},
   "source": [
    "#  Scatter Plot"
   ]
  },
  {
   "cell_type": "code",
   "execution_count": 13,
   "metadata": {},
   "outputs": [
    {
     "data": {
      "image/png": "[encoded data removed]",
      "text/plain": [
       "<Figure size 432x288 with 1 Axes>"
      ]
     },
     "metadata": {
      "needs_background": "light"
     },
     "output_type": "display_data"
    }
   ],
   "source": [
    "# Generate a scatter plot of mouse weight versus average tumor volume for the Capomulin regimen\n",
    "\n",
    "# Use loc to filter data for Capomulin\n",
    "capomulin_df = mouse_study_df.loc[mouse_study_df[\"Drug Regimen\"] == \"Capomulin\"]\n",
    "\n",
    "# Make new df that just focuses on mouse id, weight, and tumor vol from capomulin_df\n",
    "capomulin_vol_g = capomulin_df[['Mouse ID', 'Weight (g)','Tumor Volume (mm3)']]\n",
    "\n",
    "# Groupby Mouse ID and calculate tumor volume and weight average \n",
    "avg_capomulin_vol = capomulin_vol_g.groupby('Mouse ID').mean()['Tumor Volume (mm3)']\n",
    "avg_capomulin_g = capomulin_vol_g.groupby('Mouse ID').mean()['Weight (g)']\n",
    "\n",
    "# Merge the two dataframes from above groupbys\n",
    "avg_capomulin_volg = pd.merge(avg_capomulin_vol, avg_capomulin_g, on=\"Mouse ID\")\n",
    "\n",
    "#----------------------------------------------------------------------------------------\n",
    "\n",
    "# Set axises for line plot\n",
    "x_axis = avg_capomulin_volg[\"Tumor Volume (mm3)\"]\n",
    "y_axis = avg_capomulin_volg['Weight (g)']\n",
    "\n",
    "# Make scatter plot and label graph\n",
    "plt.scatter(x_axis,y_axis)\n",
    "plt.title(\"Capomulin Mice: Average Weight v. Tumor Volume\")\n",
    "plt.xlabel(\"Tumor Vol. (mm3)\")\n",
    "plt.ylabel(\"Weight (g)\")\n",
    "\n",
    "plt.tight_layout()\n",
    "plt.show()"
   ]
  },
  {
   "cell_type": "code",
   "execution_count": 14,
   "metadata": {},
   "outputs": [
    {
     "name": "stdout",
     "output_type": "stream",
     "text": [
      "The correlation between weight (g) and tumor volume (mm3) is 0.84\n",
      "y = 0.74x + -10.15\n"
     ]
    },
    {
     "data": {
      "text/plain": [
       "Text(0, 0.5, 'Weight (g)')"
      ]
     },
     "execution_count": 14,
     "metadata": {},
     "output_type": "execute_result"
    },
    {
     "data": {
      "image/png": "[encoded data removed]",
      "text/plain": [
       "<Figure size 432x288 with 1 Axes>"
      ]
     },
     "metadata": {
      "needs_background": "light"
     },
     "output_type": "display_data"
    }
   ],
   "source": [
    "# Calculate the correlation coefficient and linear regression model for mouse weight and average tumor volume for the Capomulin regimen\n",
    "\n",
    "# Calculate correlation coefficient between weight and average tumor volume\n",
    "correlation = st.pearsonr(x_axis, y_axis)\n",
    "correlation\n",
    "print(f'The correlation between weight (g) and tumor volume (mm3) is {round(correlation[0],2)}')\n",
    "\n",
    "# Make linear regression model\n",
    "(slope, intercept, rvalue, pvalue, stderr) = linregress(x_axis,y_axis)\n",
    "regress_values = x_axis * slope + intercept\n",
    "line_eq = 'y = ' + str(round(slope,2)) + 'x + ' + str(round(intercept, 2))\n",
    "\n",
    "# Copy scatter plot from above and combine linear regression model\n",
    "plt.scatter(x_axis,y_axis)\n",
    "plt.plot(x_axis, regress_values, 'r-')\n",
    "print(line_eq)\n",
    "plt.title(\"Capomulin Mice: Average Weight v. Tumor Volume\")\n",
    "plt.xlabel(\"Tumor Vol. (mm3)\")\n",
    "plt.ylabel(\"Weight (g)\")"
   ]
  },
  {
   "cell_type": "code",
   "execution_count": null,
   "metadata": {},
   "outputs": [],
   "source": []
  }
 ],
 "metadata": {
  "anaconda-cloud": {},
  "kernelspec": {
   "display_name": "Python 3",
   "language": "python",
   "name": "python3"
  },
  "language_info": {
   "codemirror_mode": {
    "name": "ipython",
    "version": 3
   },
   "file_extension": ".py",
   "mimetype": "text/x-python",
   "name": "python",
   "nbconvert_exporter": "python",
   "pygments_lexer": "ipython3",
   "version": "3.6.10"
  }
 },
 "nbformat": 4,
 "nbformat_minor": 2
}
