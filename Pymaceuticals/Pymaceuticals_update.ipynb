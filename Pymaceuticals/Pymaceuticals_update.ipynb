{
 "cells": [
  {
   "cell_type": "markdown",
   "metadata": {},
   "source": [
    "## Observations and Insights"
   ]
  },
  {
   "cell_type": "markdown",
   "metadata": {},
   "source": []
  },
  {
   "cell_type": "markdown",
   "metadata": {},
   "source": [
    "## Look across all the generated figures and tables and write at least three observations or inferences that can be made from the data.\n",
    "\n",
    "### Observation 1\n",
    "### Based off of Mouse-l509's treatment with Capomulin, the tumor volume decreased without affecting his                        weight. Will also need to make a comparison with a female mouse to see if the same outcome occured with this          medication.\n",
    "\n",
    "### Observation 2\n",
    "### The mouse distribution for each drug regimen was uneven. The maximum number of mice for Capomulin was            230 and the minimum was 161 for the Propriva regimen. The study might be more concrete if the number of mice        was the same for all regimens.\n",
    "\n",
    "### Observation 3\n",
    "###"
   ]
  },
  {
   "cell_type": "markdown",
   "metadata": {},
   "source": [
    "## Dependencies and starter code"
   ]
  },
  {
   "cell_type": "code",
   "execution_count": 2,
   "metadata": {},
   "outputs": [],
   "source": [
    "# Dependencies and Setup\n",
    "import matplotlib.pyplot as plt\n",
    "import pandas as pd\n",
    "import scipy.stats as st\n",
    "from scipy.stats import sem\n",
    "from scipy.stats import linregress\n",
    "import numpy as np"
   ]
  },
  {
   "cell_type": "code",
   "execution_count": 3,
   "metadata": {},
   "outputs": [
    {
     "data": {
      "text/html": [
       "<div>\n",
       "<style scoped>\n",
       "    .dataframe tbody tr th:only-of-type {\n",
       "        vertical-align: middle;\n",
       "    }\n",
       "\n",
       "    .dataframe tbody tr th {\n",
       "        vertical-align: top;\n",
       "    }\n",
       "\n",
       "    .dataframe thead th {\n",
       "        text-align: right;\n",
       "    }\n",
       "</style>\n",
       "<table border=\"1\" class=\"dataframe\">\n",
       "  <thead>\n",
       "    <tr style=\"text-align: right;\">\n",
       "      <th></th>\n",
       "      <th>Mouse ID</th>\n",
       "      <th>Drug Regimen</th>\n",
       "      <th>Sex</th>\n",
       "      <th>Age_months</th>\n",
       "      <th>Weight (g)</th>\n",
       "      <th>Timepoint</th>\n",
       "      <th>Tumor Volume (mm3)</th>\n",
       "      <th>Metastatic Sites</th>\n",
       "    </tr>\n",
       "  </thead>\n",
       "  <tbody>\n",
       "    <tr>\n",
       "      <th>0</th>\n",
       "      <td>k403</td>\n",
       "      <td>Ramicane</td>\n",
       "      <td>Male</td>\n",
       "      <td>21</td>\n",
       "      <td>16</td>\n",
       "      <td>0</td>\n",
       "      <td>45.000000</td>\n",
       "      <td>0</td>\n",
       "    </tr>\n",
       "    <tr>\n",
       "      <th>1</th>\n",
       "      <td>k403</td>\n",
       "      <td>Ramicane</td>\n",
       "      <td>Male</td>\n",
       "      <td>21</td>\n",
       "      <td>16</td>\n",
       "      <td>5</td>\n",
       "      <td>38.825898</td>\n",
       "      <td>0</td>\n",
       "    </tr>\n",
       "    <tr>\n",
       "      <th>2</th>\n",
       "      <td>k403</td>\n",
       "      <td>Ramicane</td>\n",
       "      <td>Male</td>\n",
       "      <td>21</td>\n",
       "      <td>16</td>\n",
       "      <td>10</td>\n",
       "      <td>35.014271</td>\n",
       "      <td>1</td>\n",
       "    </tr>\n",
       "    <tr>\n",
       "      <th>3</th>\n",
       "      <td>k403</td>\n",
       "      <td>Ramicane</td>\n",
       "      <td>Male</td>\n",
       "      <td>21</td>\n",
       "      <td>16</td>\n",
       "      <td>15</td>\n",
       "      <td>34.223992</td>\n",
       "      <td>1</td>\n",
       "    </tr>\n",
       "    <tr>\n",
       "      <th>4</th>\n",
       "      <td>k403</td>\n",
       "      <td>Ramicane</td>\n",
       "      <td>Male</td>\n",
       "      <td>21</td>\n",
       "      <td>16</td>\n",
       "      <td>20</td>\n",
       "      <td>32.997729</td>\n",
       "      <td>1</td>\n",
       "    </tr>\n",
       "  </tbody>\n",
       "</table>\n",
       "</div>"
      ],
      "text/plain": [
       "  Mouse ID Drug Regimen   Sex  Age_months  Weight (g)  Timepoint  \\\n",
       "0     k403     Ramicane  Male          21          16          0   \n",
       "1     k403     Ramicane  Male          21          16          5   \n",
       "2     k403     Ramicane  Male          21          16         10   \n",
       "3     k403     Ramicane  Male          21          16         15   \n",
       "4     k403     Ramicane  Male          21          16         20   \n",
       "\n",
       "   Tumor Volume (mm3)  Metastatic Sites  \n",
       "0           45.000000                 0  \n",
       "1           38.825898                 0  \n",
       "2           35.014271                 1  \n",
       "3           34.223992                 1  \n",
       "4           32.997729                 1  "
      ]
     },
     "execution_count": 3,
     "metadata": {},
     "output_type": "execute_result"
    }
   ],
   "source": [
    "# Importing study data files\n",
    "mouse_metadata = \"data/Mouse_metadata.csv\"\n",
    "study_results = \"data/Study_results.csv\"\n",
    "\n",
    "# Read the mouse data and the study results\n",
    "mouse_metadata = pd.read_csv(mouse_metadata)\n",
    "study_results = pd.read_csv(study_results)\n",
    "\n",
    "# Combine the data into a single dataset\n",
    "mouse_study_df = pd.merge(mouse_metadata, study_results, on=\"Mouse ID\")\n",
    "mouse_study_df.head()"
   ]
  },
  {
   "cell_type": "markdown",
   "metadata": {},
   "source": [
    "## Summary statistics"
   ]
  },
  {
   "cell_type": "code",
   "execution_count": 52,
   "metadata": {},
   "outputs": [
    {
     "data": {
      "text/html": [
       "<div>\n",
       "<style scoped>\n",
       "    .dataframe tbody tr th:only-of-type {\n",
       "        vertical-align: middle;\n",
       "    }\n",
       "\n",
       "    .dataframe tbody tr th {\n",
       "        vertical-align: top;\n",
       "    }\n",
       "\n",
       "    .dataframe thead th {\n",
       "        text-align: right;\n",
       "    }\n",
       "</style>\n",
       "<table border=\"1\" class=\"dataframe\">\n",
       "  <thead>\n",
       "    <tr style=\"text-align: right;\">\n",
       "      <th></th>\n",
       "      <th>TV-Varience (mm3)</th>\n",
       "      <th>TV-StDev (mm3)</th>\n",
       "      <th>TV-Varience (mm3)</th>\n",
       "      <th>TV-StDev (mm3)</th>\n",
       "      <th>TV-SEM (mm3)</th>\n",
       "    </tr>\n",
       "    <tr>\n",
       "      <th>Drug Regimen</th>\n",
       "      <th></th>\n",
       "      <th></th>\n",
       "      <th></th>\n",
       "      <th></th>\n",
       "      <th></th>\n",
       "    </tr>\n",
       "  </thead>\n",
       "  <tbody>\n",
       "    <tr>\n",
       "      <th>Capomulin</th>\n",
       "      <td>40.675741</td>\n",
       "      <td>41.557809</td>\n",
       "      <td>24.947764</td>\n",
       "      <td>4.994774</td>\n",
       "      <td>0.329346</td>\n",
       "    </tr>\n",
       "    <tr>\n",
       "      <th>Ceftamin</th>\n",
       "      <td>52.591172</td>\n",
       "      <td>51.776157</td>\n",
       "      <td>39.290177</td>\n",
       "      <td>6.268188</td>\n",
       "      <td>0.469821</td>\n",
       "    </tr>\n",
       "    <tr>\n",
       "      <th>Infubinol</th>\n",
       "      <td>52.884795</td>\n",
       "      <td>51.820584</td>\n",
       "      <td>43.128684</td>\n",
       "      <td>6.567243</td>\n",
       "      <td>0.492236</td>\n",
       "    </tr>\n",
       "    <tr>\n",
       "      <th>Ketapril</th>\n",
       "      <td>55.235638</td>\n",
       "      <td>53.698743</td>\n",
       "      <td>68.553577</td>\n",
       "      <td>8.279709</td>\n",
       "      <td>0.603860</td>\n",
       "    </tr>\n",
       "    <tr>\n",
       "      <th>Naftisol</th>\n",
       "      <td>54.331565</td>\n",
       "      <td>52.509285</td>\n",
       "      <td>66.173479</td>\n",
       "      <td>8.134708</td>\n",
       "      <td>0.596466</td>\n",
       "    </tr>\n",
       "    <tr>\n",
       "      <th>Placebo</th>\n",
       "      <td>54.033581</td>\n",
       "      <td>52.288934</td>\n",
       "      <td>61.168083</td>\n",
       "      <td>7.821003</td>\n",
       "      <td>0.581331</td>\n",
       "    </tr>\n",
       "    <tr>\n",
       "      <th>Propriva</th>\n",
       "      <td>52.322552</td>\n",
       "      <td>50.854632</td>\n",
       "      <td>42.351070</td>\n",
       "      <td>6.507770</td>\n",
       "      <td>0.512884</td>\n",
       "    </tr>\n",
       "    <tr>\n",
       "      <th>Ramicane</th>\n",
       "      <td>40.216745</td>\n",
       "      <td>40.673236</td>\n",
       "      <td>23.486704</td>\n",
       "      <td>4.846308</td>\n",
       "      <td>0.320955</td>\n",
       "    </tr>\n",
       "    <tr>\n",
       "      <th>Stelasyn</th>\n",
       "      <td>54.233149</td>\n",
       "      <td>52.431737</td>\n",
       "      <td>59.450562</td>\n",
       "      <td>7.710419</td>\n",
       "      <td>0.573111</td>\n",
       "    </tr>\n",
       "    <tr>\n",
       "      <th>Zoniferol</th>\n",
       "      <td>53.236507</td>\n",
       "      <td>51.818479</td>\n",
       "      <td>48.533355</td>\n",
       "      <td>6.966589</td>\n",
       "      <td>0.516398</td>\n",
       "    </tr>\n",
       "  </tbody>\n",
       "</table>\n",
       "</div>"
      ],
      "text/plain": [
       "              TV-Varience (mm3)  TV-StDev (mm3)  TV-Varience (mm3)  \\\n",
       "Drug Regimen                                                         \n",
       "Capomulin             40.675741       41.557809          24.947764   \n",
       "Ceftamin              52.591172       51.776157          39.290177   \n",
       "Infubinol             52.884795       51.820584          43.128684   \n",
       "Ketapril              55.235638       53.698743          68.553577   \n",
       "Naftisol              54.331565       52.509285          66.173479   \n",
       "Placebo               54.033581       52.288934          61.168083   \n",
       "Propriva              52.322552       50.854632          42.351070   \n",
       "Ramicane              40.216745       40.673236          23.486704   \n",
       "Stelasyn              54.233149       52.431737          59.450562   \n",
       "Zoniferol             53.236507       51.818479          48.533355   \n",
       "\n",
       "              TV-StDev (mm3)  TV-SEM (mm3)  \n",
       "Drug Regimen                                \n",
       "Capomulin           4.994774      0.329346  \n",
       "Ceftamin            6.268188      0.469821  \n",
       "Infubinol           6.567243      0.492236  \n",
       "Ketapril            8.279709      0.603860  \n",
       "Naftisol            8.134708      0.596466  \n",
       "Placebo             7.821003      0.581331  \n",
       "Propriva            6.507770      0.512884  \n",
       "Ramicane            4.846308      0.320955  \n",
       "Stelasyn            7.710419      0.573111  \n",
       "Zoniferol           6.966589      0.516398  "
      ]
     },
     "execution_count": 52,
     "metadata": {},
     "output_type": "execute_result"
    }
   ],
   "source": [
    "# Generate a summary statistics table of the tumor volume for each drug regimen.\n",
    "# It should consist of mean, median, variance, standard deviation, and SEM\n",
    "\n",
    "\n",
    "# Make dataframe with drug regimen and tumor volume. Set drug regimen as index.\n",
    "reg_df = mouse_study_df[['Drug Regimen', 'Tumor Volume (mm3)']]\n",
    "reg_df.set_index('Drug Regimen')\n",
    "\n",
    "# Make dataframe of summary stats\n",
    "tv_mean = reg_df.groupby('Drug Regimen').mean()['Tumor Volume (mm3)']\n",
    "tv_mean_df = pd.DataFrame(tv_mean)\n",
    "\n",
    "tv_median = reg_df.groupby('Drug Regimen').median()['Tumor Volume (mm3)']\n",
    "tv_median_df = pd.DataFrame(tv_median)\n",
    "\n",
    "tv_var = reg_df.groupby('Drug Regimen').var()['Tumor Volume (mm3)']\n",
    "tv_var_df = pd.DataFrame(tv_var)\n",
    "\n",
    "tv_std = reg_df.groupby('Drug Regimen').std()['Tumor Volume (mm3)']\n",
    "tv_std_df = pd.DataFrame(tv_std)\n",
    "\n",
    "tv_sem = reg_df.groupby('Drug Regimen').sem()['Tumor Volume (mm3)']\n",
    "tv_sem_df = pd.DataFrame(tv_sem)\n",
    "\n",
    "# Merge summary stats onto one dataframe\n",
    "tv_stats1 = pd.merge(tv_mean,tv_median, on='Drug Regimen')\n",
    "tv_stats1\n",
    "\n",
    "tv_stats2 = pd.merge(tv_stats1, tv_var, on='Drug Regimen')\n",
    "tv_stats2\n",
    "\n",
    "tv_stats3 = pd.merge(tv_stats2, tv_std, on='Drug Regimen')\n",
    "tv_stats3\n",
    "\n",
    "tv_stats4 = pd.merge(tv_stats3, tv_sem, on='Drug Regimen')\n",
    "tv_stats4\n",
    "\n",
    "# Rename summary stats columns\n",
    "tv_stats_rename = tv_stats4.rename(columns={'Tumor Volume (mm3)_x': 'TV-Mean (mm3)',\n",
    "                                            'Tumor Volume (mm3)_y': 'TV-Median (mm3)',\n",
    "                                            'Tumor Volume (mm3)_x': 'TV-Varience (mm3)',\n",
    "                                            'Tumor Volume (mm3)_y': 'TV-StDev (mm3)',\n",
    "                                            'Tumor Volume (mm3)': 'TV-SEM (mm3)'})\n",
    "tv_stats_rename"
   ]
  },
  {
   "cell_type": "markdown",
   "metadata": {},
   "source": [
    "## Bar plots"
   ]
  },
  {
   "cell_type": "code",
   "execution_count": 5,
   "metadata": {},
   "outputs": [
    {
     "data": {
      "text/plain": [
       "Text(0, 0.5, 'Mouse Count')"
      ]
     },
     "execution_count": 5,
     "metadata": {},
     "output_type": "execute_result"
    },
    {
     "data": {
      "image/png": "[encoded data removed]",
      "text/plain": [
       "<Figure size 432x288 with 1 Axes>"
      ]
     },
     "metadata": {
      "needs_background": "light"
     },
     "output_type": "display_data"
    }
   ],
   "source": [
    "# Generate a bar plot using Pandas's DataFrame.plot() that shows the number of data points for each treatment regimen.\n",
    "\n",
    "# Make a dataframe of the total mice per drug regimen while creating bar chart\n",
    "mice_total_df = mouse_study_df[\"Drug Regimen\"].value_counts().plot(kind='bar', title=\"Number of Mice per Drug Regimen\")\n",
    "\n",
    "# Make a labels for x and y\n",
    "plt.xlabel(\"Drug Regimen\")\n",
    "plt.ylabel(\"Mouse Count\")"
   ]
  },
  {
   "cell_type": "code",
   "execution_count": 6,
   "metadata": {},
   "outputs": [
    {
     "data": {
      "text/plain": [
       "Text(0, 0.5, 'Mouse count')"
      ]
     },
     "execution_count": 6,
     "metadata": {},
     "output_type": "execute_result"
    },
    {
     "data": {
      "image/png": "[encoded data removed]",
      "text/plain": [
       "<Figure size 432x288 with 1 Axes>"
      ]
     },
     "metadata": {
      "needs_background": "light"
     },
     "output_type": "display_data"
    }
   ],
   "source": [
    "# Generate a bar plot using both Matplotlib's pyplot that shows the number of data points for each treatment regimen.\n",
    "\n",
    "# Make variables for drug regimen and mouse count\n",
    "drugs = ['Capomulin','Ramicane', 'Ketapril', 'Naftisol','Zoniferol', \n",
    "         'Stelasyn','Placebo','Ceftamin','Infubinol', 'Propriva']\n",
    "mice_count = [230, 228, 188, 186, 182, 181, 181, 178, 178, 161]\n",
    "x_axis = np.arange(len(mice_count))\n",
    "\n",
    "# Creating bar chart based on values above. Add tick marks.\n",
    "plt.bar(x_axis, mice_count, color=\"lightpink\", align=\"center\",)\n",
    "tick_locations = [value for value in x_axis]\n",
    "plt.xticks(tick_locations, drugs, rotation='vertical')\n",
    "\n",
    "# Label the chart's title, x and y axises\n",
    "plt.title(\"Number of Mice per Drug Regimen\")\n",
    "plt.xlabel(\"Drug Regimen\")\n",
    "plt.ylabel(\"Mouse count\")"
   ]
  },
  {
   "cell_type": "markdown",
   "metadata": {},
   "source": [
    "## Pie plots"
   ]
  },
  {
   "cell_type": "code",
   "execution_count": 9,
   "metadata": {},
   "outputs": [
    {
     "data": {
      "text/plain": [
       "Text(0.5, 1.0, 'Percentage of Female & Male Mice in Study')"
      ]
     },
     "execution_count": 9,
     "metadata": {},
     "output_type": "execute_result"
    },
    {
     "data": {
      "image/png": "[encoded data removed]",
      "text/plain": [
       "<Figure size 432x288 with 1 Axes>"
      ]
     },
     "metadata": {},
     "output_type": "display_data"
    }
   ],
   "source": [
    "# Generate a pie plot using Matplotlib's pyplot that shows the distribution of female or male mice in the study.\n",
    "\n",
    "# Make variables for sex and mouse population lables\n",
    "sex = ['Male','Female']\n",
    "mouse_samp = [958,935]\n",
    "\n",
    "# Colors for each section\n",
    "colors = ['lightpink', 'lightskyblue']\n",
    "\n",
    "# Creating pie chart based on values above with percentages. Add title.\n",
    "plt.pie(mouse_samp, colors=colors, autopct=\"%1.1f%%\", startangle=90)\n",
    "plt.legend(loc='upper right', labels=sex, bbox_to_anchor=(1.3,0.7))\n",
    "plt.title(\"Percentage of Female & Male Mice in Study\")"
   ]
  },
  {
   "cell_type": "code",
   "execution_count": 10,
   "metadata": {},
   "outputs": [
    {
     "data": {
      "text/plain": [
       "Text(0.5, 1.0, 'Percentage of Female & Male Mice in Study')"
      ]
     },
     "execution_count": 10,
     "metadata": {},
     "output_type": "execute_result"
    },
    {
     "data": {
      "image/png": "[encoded data removed]",
      "text/plain": [
       "<Figure size 432x288 with 1 Axes>"
      ]
     },
     "metadata": {},
     "output_type": "display_data"
    }
   ],
   "source": [
    "# Generate a pie plot using both Pandas's DataFrame.plot() shows the distribution of female or male mice in the study.\n",
    "\n",
    "mouse_study_df['Sex'].value_counts().plot(kind='pie', autopct=\"%1.1f%%\", startangle=90)\n",
    "\n",
    "plt.title(\"Percentage of Female & Male Mice in Study\")"
   ]
  },
  {
   "cell_type": "markdown",
   "metadata": {},
   "source": [
    "## Quartiles, outliers and boxplots"
   ]
  },
  {
   "cell_type": "code",
   "execution_count": 78,
   "metadata": {
    "scrolled": true
   },
   "outputs": [
    {
     "ename": "TypeError",
     "evalue": "unhashable type: 'list'",
     "output_type": "error",
     "traceback": [
      "\u001b[1;31m---------------------------------------------------------------------------\u001b[0m",
      "\u001b[1;31mTypeError\u001b[0m                                 Traceback (most recent call last)",
      "\u001b[1;32m<ipython-input-78-ed71e0412ade>\u001b[0m in \u001b[0;36m<module>\u001b[1;34m\u001b[0m\n\u001b[0;32m      4\u001b[0m \u001b[0mregimens_grouped\u001b[0m \u001b[1;33m=\u001b[0m \u001b[0mregimens\u001b[0m\u001b[1;33m.\u001b[0m\u001b[0mgroupby\u001b[0m\u001b[1;33m(\u001b[0m\u001b[1;33m[\u001b[0m\u001b[1;34m'Drug Regimen'\u001b[0m\u001b[1;33m,\u001b[0m\u001b[1;34m'Mouse ID'\u001b[0m\u001b[1;33m]\u001b[0m\u001b[1;33m)\u001b[0m\u001b[1;33m\u001b[0m\u001b[1;33m\u001b[0m\u001b[0m\n\u001b[0;32m      5\u001b[0m \u001b[0mregimens_timemax\u001b[0m \u001b[1;33m=\u001b[0m \u001b[0mregimens_grouped\u001b[0m\u001b[1;33m.\u001b[0m\u001b[0mmax\u001b[0m\u001b[1;33m(\u001b[0m\u001b[1;33m)\u001b[0m\u001b[1;33m\u001b[0m\u001b[1;33m\u001b[0m\u001b[0m\n\u001b[1;32m----> 6\u001b[1;33m \u001b[0mregimens_timemax\u001b[0m\u001b[1;33m.\u001b[0m\u001b[0miloc\u001b[0m\u001b[1;33m(\u001b[0m\u001b[1;33m[\u001b[0m\u001b[1;36m0\u001b[0m\u001b[1;33m,\u001b[0m\u001b[1;36m1\u001b[0m\u001b[1;33m,\u001b[0m\u001b[1;36m2\u001b[0m\u001b[1;33m,\u001b[0m\u001b[1;36m8\u001b[0m\u001b[1;33m]\u001b[0m\u001b[1;33m)\u001b[0m\u001b[1;33m\u001b[0m\u001b[1;33m\u001b[0m\u001b[0m\n\u001b[0m\u001b[0;32m      7\u001b[0m \u001b[1;31m# four_reg_time = four_regimens['Timepoint'].max()\u001b[0m\u001b[1;33m\u001b[0m\u001b[1;33m\u001b[0m\u001b[1;33m\u001b[0m\u001b[0m\n\u001b[0;32m      8\u001b[0m \u001b[1;31m# four_reg_time\u001b[0m\u001b[1;33m\u001b[0m\u001b[1;33m\u001b[0m\u001b[1;33m\u001b[0m\u001b[0m\n",
      "\u001b[1;32m~\\anaconda3\\envs\\PythonData\\lib\\site-packages\\pandas\\core\\indexing.py\u001b[0m in \u001b[0;36m__call__\u001b[1;34m(self, axis)\u001b[0m\n\u001b[0;32m    576\u001b[0m \u001b[1;33m\u001b[0m\u001b[0m\n\u001b[0;32m    577\u001b[0m         \u001b[1;32mif\u001b[0m \u001b[0maxis\u001b[0m \u001b[1;32mis\u001b[0m \u001b[1;32mnot\u001b[0m \u001b[1;32mNone\u001b[0m\u001b[1;33m:\u001b[0m\u001b[1;33m\u001b[0m\u001b[1;33m\u001b[0m\u001b[0m\n\u001b[1;32m--> 578\u001b[1;33m             \u001b[0maxis\u001b[0m \u001b[1;33m=\u001b[0m \u001b[0mself\u001b[0m\u001b[1;33m.\u001b[0m\u001b[0mobj\u001b[0m\u001b[1;33m.\u001b[0m\u001b[0m_get_axis_number\u001b[0m\u001b[1;33m(\u001b[0m\u001b[0maxis\u001b[0m\u001b[1;33m)\u001b[0m\u001b[1;33m\u001b[0m\u001b[1;33m\u001b[0m\u001b[0m\n\u001b[0m\u001b[0;32m    579\u001b[0m         \u001b[0mnew_self\u001b[0m\u001b[1;33m.\u001b[0m\u001b[0maxis\u001b[0m \u001b[1;33m=\u001b[0m \u001b[0maxis\u001b[0m\u001b[1;33m\u001b[0m\u001b[1;33m\u001b[0m\u001b[0m\n\u001b[0;32m    580\u001b[0m         \u001b[1;32mreturn\u001b[0m \u001b[0mnew_self\u001b[0m\u001b[1;33m\u001b[0m\u001b[1;33m\u001b[0m\u001b[0m\n",
      "\u001b[1;32m~\\anaconda3\\envs\\PythonData\\lib\\site-packages\\pandas\\core\\generic.py\u001b[0m in \u001b[0;36m_get_axis_number\u001b[1;34m(cls, axis)\u001b[0m\n\u001b[0;32m    396\u001b[0m     \u001b[1;33m@\u001b[0m\u001b[0mclassmethod\u001b[0m\u001b[1;33m\u001b[0m\u001b[1;33m\u001b[0m\u001b[0m\n\u001b[0;32m    397\u001b[0m     \u001b[1;32mdef\u001b[0m \u001b[0m_get_axis_number\u001b[0m\u001b[1;33m(\u001b[0m\u001b[0mcls\u001b[0m\u001b[1;33m,\u001b[0m \u001b[0maxis\u001b[0m\u001b[1;33m)\u001b[0m\u001b[1;33m:\u001b[0m\u001b[1;33m\u001b[0m\u001b[1;33m\u001b[0m\u001b[0m\n\u001b[1;32m--> 398\u001b[1;33m         \u001b[0maxis\u001b[0m \u001b[1;33m=\u001b[0m \u001b[0mcls\u001b[0m\u001b[1;33m.\u001b[0m\u001b[0m_AXIS_ALIASES\u001b[0m\u001b[1;33m.\u001b[0m\u001b[0mget\u001b[0m\u001b[1;33m(\u001b[0m\u001b[0maxis\u001b[0m\u001b[1;33m,\u001b[0m \u001b[0maxis\u001b[0m\u001b[1;33m)\u001b[0m\u001b[1;33m\u001b[0m\u001b[1;33m\u001b[0m\u001b[0m\n\u001b[0m\u001b[0;32m    399\u001b[0m         \u001b[1;32mif\u001b[0m \u001b[0mis_integer\u001b[0m\u001b[1;33m(\u001b[0m\u001b[0maxis\u001b[0m\u001b[1;33m)\u001b[0m\u001b[1;33m:\u001b[0m\u001b[1;33m\u001b[0m\u001b[1;33m\u001b[0m\u001b[0m\n\u001b[0;32m    400\u001b[0m             \u001b[1;32mif\u001b[0m \u001b[0maxis\u001b[0m \u001b[1;32min\u001b[0m \u001b[0mcls\u001b[0m\u001b[1;33m.\u001b[0m\u001b[0m_AXIS_NAMES\u001b[0m\u001b[1;33m:\u001b[0m\u001b[1;33m\u001b[0m\u001b[1;33m\u001b[0m\u001b[0m\n",
      "\u001b[1;31mTypeError\u001b[0m: unhashable type: 'list'"
     ]
    }
   ],
   "source": [
    "# create dataframe for Capomulin, Ramicane, Infubinol, and Ceftamin\n",
    "regimens = mouse_study_df[['Mouse ID', 'Drug Regimen', 'Timepoint','Tumor Volume (mm3)']]\n",
    "regimens = pd.DataFrame(regimens)\n",
    "regimens_grouped = regimens.groupby(['Drug Regimen','Mouse ID'])\n",
    "regimens_timemax = regimens_grouped.max()\n",
    "regimens_timemax.iloc([0,1,2,8])\n",
    "# four_reg_time = four_regimens['Timepoint'].max()\n",
    "# four_reg_time"
   ]
  },
  {
   "cell_type": "code",
   "execution_count": null,
   "metadata": {},
   "outputs": [],
   "source": []
  },
  {
   "cell_type": "code",
   "execution_count": 13,
   "metadata": {
    "scrolled": true
   },
   "outputs": [
    {
     "name": "stdout",
     "output_type": "stream",
     "text": [
      "The lower quartile of final tumor volume (mm3) is: 45.0\n",
      "The upper quartile of final tumor volume (mm3) is: 56.29220039\n",
      "The interquartile range of final tumor volume (mm3) is: 11.292200389999998\n",
      "The the median of final tumor volume (mm3) is: 48.95147442 \n",
      "Values below 28.061699415000003 could be outliers.\n",
      "Values above 73.230500975 could be outliers.\n"
     ]
    },
    {
     "data": {
      "text/html": [
       "<div>\n",
       "<style scoped>\n",
       "    .dataframe tbody tr th:only-of-type {\n",
       "        vertical-align: middle;\n",
       "    }\n",
       "\n",
       "    .dataframe tbody tr th {\n",
       "        vertical-align: top;\n",
       "    }\n",
       "\n",
       "    .dataframe thead th {\n",
       "        text-align: right;\n",
       "    }\n",
       "</style>\n",
       "<table border=\"1\" class=\"dataframe\">\n",
       "  <thead>\n",
       "    <tr style=\"text-align: right;\">\n",
       "      <th></th>\n",
       "      <th>Mouse ID</th>\n",
       "      <th>Drug Regimen</th>\n",
       "      <th>Sex</th>\n",
       "      <th>Age_months</th>\n",
       "      <th>Weight (g)</th>\n",
       "      <th>Timepoint</th>\n",
       "      <th>Tumor Volume (mm3)</th>\n",
       "      <th>Metastatic Sites</th>\n",
       "    </tr>\n",
       "  </thead>\n",
       "  <tbody>\n",
       "    <tr>\n",
       "      <th>7</th>\n",
       "      <td>k403</td>\n",
       "      <td>Ramicane</td>\n",
       "      <td>Male</td>\n",
       "      <td>21</td>\n",
       "      <td>16</td>\n",
       "      <td>35</td>\n",
       "      <td>26.546993</td>\n",
       "      <td>1</td>\n",
       "    </tr>\n",
       "    <tr>\n",
       "      <th>8</th>\n",
       "      <td>k403</td>\n",
       "      <td>Ramicane</td>\n",
       "      <td>Male</td>\n",
       "      <td>21</td>\n",
       "      <td>16</td>\n",
       "      <td>40</td>\n",
       "      <td>24.365505</td>\n",
       "      <td>1</td>\n",
       "    </tr>\n",
       "    <tr>\n",
       "      <th>9</th>\n",
       "      <td>k403</td>\n",
       "      <td>Ramicane</td>\n",
       "      <td>Male</td>\n",
       "      <td>21</td>\n",
       "      <td>16</td>\n",
       "      <td>45</td>\n",
       "      <td>22.050126</td>\n",
       "      <td>1</td>\n",
       "    </tr>\n",
       "    <tr>\n",
       "      <th>18</th>\n",
       "      <td>s185</td>\n",
       "      <td>Capomulin</td>\n",
       "      <td>Female</td>\n",
       "      <td>3</td>\n",
       "      <td>17</td>\n",
       "      <td>40</td>\n",
       "      <td>25.472143</td>\n",
       "      <td>1</td>\n",
       "    </tr>\n",
       "    <tr>\n",
       "      <th>19</th>\n",
       "      <td>s185</td>\n",
       "      <td>Capomulin</td>\n",
       "      <td>Female</td>\n",
       "      <td>3</td>\n",
       "      <td>17</td>\n",
       "      <td>45</td>\n",
       "      <td>23.343598</td>\n",
       "      <td>1</td>\n",
       "    </tr>\n",
       "    <tr>\n",
       "      <th>567</th>\n",
       "      <td>a818</td>\n",
       "      <td>Naftisol</td>\n",
       "      <td>Female</td>\n",
       "      <td>12</td>\n",
       "      <td>28</td>\n",
       "      <td>45</td>\n",
       "      <td>74.997764</td>\n",
       "      <td>2</td>\n",
       "    </tr>\n",
       "    <tr>\n",
       "      <th>679</th>\n",
       "      <td>c402</td>\n",
       "      <td>Stelasyn</td>\n",
       "      <td>Female</td>\n",
       "      <td>1</td>\n",
       "      <td>27</td>\n",
       "      <td>45</td>\n",
       "      <td>74.040390</td>\n",
       "      <td>3</td>\n",
       "    </tr>\n",
       "    <tr>\n",
       "      <th>850</th>\n",
       "      <td>f545</td>\n",
       "      <td>Zoniferol</td>\n",
       "      <td>Female</td>\n",
       "      <td>20</td>\n",
       "      <td>26</td>\n",
       "      <td>45</td>\n",
       "      <td>73.324432</td>\n",
       "      <td>1</td>\n",
       "    </tr>\n",
       "    <tr>\n",
       "      <th>930</th>\n",
       "      <td>h246</td>\n",
       "      <td>Ketapril</td>\n",
       "      <td>Male</td>\n",
       "      <td>13</td>\n",
       "      <td>30</td>\n",
       "      <td>45</td>\n",
       "      <td>74.104086</td>\n",
       "      <td>2</td>\n",
       "    </tr>\n",
       "    <tr>\n",
       "      <th>1043</th>\n",
       "      <td>k382</td>\n",
       "      <td>Ketapril</td>\n",
       "      <td>Male</td>\n",
       "      <td>22</td>\n",
       "      <td>29</td>\n",
       "      <td>45</td>\n",
       "      <td>73.715619</td>\n",
       "      <td>4</td>\n",
       "    </tr>\n",
       "    <tr>\n",
       "      <th>1151</th>\n",
       "      <td>l725</td>\n",
       "      <td>Naftisol</td>\n",
       "      <td>Female</td>\n",
       "      <td>8</td>\n",
       "      <td>26</td>\n",
       "      <td>40</td>\n",
       "      <td>73.693494</td>\n",
       "      <td>3</td>\n",
       "    </tr>\n",
       "    <tr>\n",
       "      <th>1152</th>\n",
       "      <td>l725</td>\n",
       "      <td>Naftisol</td>\n",
       "      <td>Female</td>\n",
       "      <td>8</td>\n",
       "      <td>26</td>\n",
       "      <td>45</td>\n",
       "      <td>76.668817</td>\n",
       "      <td>3</td>\n",
       "    </tr>\n",
       "    <tr>\n",
       "      <th>1179</th>\n",
       "      <td>m269</td>\n",
       "      <td>Stelasyn</td>\n",
       "      <td>Female</td>\n",
       "      <td>22</td>\n",
       "      <td>28</td>\n",
       "      <td>45</td>\n",
       "      <td>75.123690</td>\n",
       "      <td>1</td>\n",
       "    </tr>\n",
       "    <tr>\n",
       "      <th>1203</th>\n",
       "      <td>m650</td>\n",
       "      <td>Ketapril</td>\n",
       "      <td>Male</td>\n",
       "      <td>15</td>\n",
       "      <td>27</td>\n",
       "      <td>45</td>\n",
       "      <td>73.901399</td>\n",
       "      <td>4</td>\n",
       "    </tr>\n",
       "    <tr>\n",
       "      <th>1277</th>\n",
       "      <td>o331</td>\n",
       "      <td>Ketapril</td>\n",
       "      <td>Male</td>\n",
       "      <td>24</td>\n",
       "      <td>30</td>\n",
       "      <td>45</td>\n",
       "      <td>78.567014</td>\n",
       "      <td>4</td>\n",
       "    </tr>\n",
       "    <tr>\n",
       "      <th>1353</th>\n",
       "      <td>p189</td>\n",
       "      <td>Ketapril</td>\n",
       "      <td>Male</td>\n",
       "      <td>8</td>\n",
       "      <td>28</td>\n",
       "      <td>40</td>\n",
       "      <td>74.106091</td>\n",
       "      <td>4</td>\n",
       "    </tr>\n",
       "    <tr>\n",
       "      <th>1354</th>\n",
       "      <td>p189</td>\n",
       "      <td>Ketapril</td>\n",
       "      <td>Male</td>\n",
       "      <td>8</td>\n",
       "      <td>28</td>\n",
       "      <td>45</td>\n",
       "      <td>75.294936</td>\n",
       "      <td>4</td>\n",
       "    </tr>\n",
       "    <tr>\n",
       "      <th>1571</th>\n",
       "      <td>t724</td>\n",
       "      <td>Naftisol</td>\n",
       "      <td>Female</td>\n",
       "      <td>2</td>\n",
       "      <td>25</td>\n",
       "      <td>45</td>\n",
       "      <td>75.113288</td>\n",
       "      <td>2</td>\n",
       "    </tr>\n",
       "    <tr>\n",
       "      <th>1892</th>\n",
       "      <td>z969</td>\n",
       "      <td>Naftisol</td>\n",
       "      <td>Male</td>\n",
       "      <td>9</td>\n",
       "      <td>30</td>\n",
       "      <td>45</td>\n",
       "      <td>73.867845</td>\n",
       "      <td>4</td>\n",
       "    </tr>\n",
       "  </tbody>\n",
       "</table>\n",
       "</div>"
      ],
      "text/plain": [
       "     Mouse ID Drug Regimen     Sex  Age_months  Weight (g)  Timepoint  \\\n",
       "7        k403     Ramicane    Male          21          16         35   \n",
       "8        k403     Ramicane    Male          21          16         40   \n",
       "9        k403     Ramicane    Male          21          16         45   \n",
       "18       s185    Capomulin  Female           3          17         40   \n",
       "19       s185    Capomulin  Female           3          17         45   \n",
       "567      a818     Naftisol  Female          12          28         45   \n",
       "679      c402     Stelasyn  Female           1          27         45   \n",
       "850      f545    Zoniferol  Female          20          26         45   \n",
       "930      h246     Ketapril    Male          13          30         45   \n",
       "1043     k382     Ketapril    Male          22          29         45   \n",
       "1151     l725     Naftisol  Female           8          26         40   \n",
       "1152     l725     Naftisol  Female           8          26         45   \n",
       "1179     m269     Stelasyn  Female          22          28         45   \n",
       "1203     m650     Ketapril    Male          15          27         45   \n",
       "1277     o331     Ketapril    Male          24          30         45   \n",
       "1353     p189     Ketapril    Male           8          28         40   \n",
       "1354     p189     Ketapril    Male           8          28         45   \n",
       "1571     t724     Naftisol  Female           2          25         45   \n",
       "1892     z969     Naftisol    Male           9          30         45   \n",
       "\n",
       "      Tumor Volume (mm3)  Metastatic Sites  \n",
       "7              26.546993                 1  \n",
       "8              24.365505                 1  \n",
       "9              22.050126                 1  \n",
       "18             25.472143                 1  \n",
       "19             23.343598                 1  \n",
       "567            74.997764                 2  \n",
       "679            74.040390                 3  \n",
       "850            73.324432                 1  \n",
       "930            74.104086                 2  \n",
       "1043           73.715619                 4  \n",
       "1151           73.693494                 3  \n",
       "1152           76.668817                 3  \n",
       "1179           75.123690                 1  \n",
       "1203           73.901399                 4  \n",
       "1277           78.567014                 4  \n",
       "1353           74.106091                 4  \n",
       "1354           75.294936                 4  \n",
       "1571           75.113288                 2  \n",
       "1892           73.867845                 4  "
      ]
     },
     "execution_count": 13,
     "metadata": {},
     "output_type": "execute_result"
    }
   ],
   "source": [
    "# Calculate the final tumor volume of each mouse across four of the most promising treatment regimens.\n",
    "# The four Drug Regimens: Capomulin, Ramicane, Infubinol, and Ceftamin. \n",
    "# Calculate the IQR and quantitatively determine if there are any potential outliers. \n",
    "\n",
    "# Calulating quartiles for final tumor volume (mm3). Final timepoint is at 45.\n",
    "quartiles = mouse_study_df['Tumor Volume (mm3)'].quantile([.25,.5,.75])\n",
    "lowerq = quartiles[0.25]\n",
    "upperq = quartiles[0.75]\n",
    "iqr = upperq-lowerq\n",
    "\n",
    "print(f\"The lower quartile of final tumor volume (mm3) is: {lowerq}\")\n",
    "print(f\"The upper quartile of final tumor volume (mm3) is: {upperq}\")\n",
    "print(f\"The interquartile range of final tumor volume (mm3) is: {iqr}\")\n",
    "print(f\"The the median of final tumor volume (mm3) is: {quartiles[0.5]} \")\n",
    "\n",
    "# Checking for outliers for final tumor volume (mm3). Final timepoint is at 45.\n",
    "\n",
    "# Still working on getting final tumor volume\n",
    "# Set Timepoint to index or groupby it. and .loc == [45], then keep the stuff below for now?\n",
    "\n",
    "lower_bound = lowerq - (1.5*iqr)\n",
    "upper_bound = upperq + (1.5*iqr)\n",
    "print(f\"Values below {lower_bound} could be outliers.\")\n",
    "print(f\"Values above {upper_bound} could be outliers.\")\n",
    "\n",
    "outlier_occupancy = mouse_study_df.loc[(mouse_study_df['Tumor Volume (mm3)'] < lower_bound) | \n",
    "                                       (mouse_study_df['Tumor Volume (mm3)'] > upper_bound)]\n",
    "outlier_occupancy"
   ]
  },
  {
   "cell_type": "code",
   "execution_count": 14,
   "metadata": {},
   "outputs": [
    {
     "data": {
      "image/png": "[encoded data removed]",
      "text/plain": [
       "<Figure size 432x288 with 1 Axes>"
      ]
     },
     "metadata": {
      "needs_background": "light"
     },
     "output_type": "display_data"
    }
   ],
   "source": [
    "# Generate a box plot of the final tumor volume of each mouse across four regimens of interest\n",
    "# Still working on getting final tumor volumeFinal timepoint is at 45.\n",
    "volume = []\n",
    "\n",
    "fig1, ax1 = plt.subplots()\n",
    "ax1.set_title('Promising Regimens')\n",
    "ax1.set_ylabel('Final Tumor Volume (mm3)')\n",
    "ax1.boxplot(volume)\n",
    "plt.show()"
   ]
  },
  {
   "cell_type": "markdown",
   "metadata": {},
   "source": [
    "## Line and scatter plots"
   ]
  },
  {
   "cell_type": "code",
   "execution_count": 15,
   "metadata": {},
   "outputs": [
    {
     "data": {
      "image/png": "[encoded data removed]",
      "text/plain": [
       "<Figure size 432x288 with 1 Axes>"
      ]
     },
     "metadata": {
      "needs_background": "light"
     },
     "output_type": "display_data"
    }
   ],
   "source": [
    "# Generate a line plot of time point versus tumor volume for a mouse(mouse ID l509) treated with Capomulin\n",
    "\n",
    "# Create df for mouse 1509\n",
    "mouse_l509_df = mouse_study_df.loc[mouse_study_df[\"Mouse ID\"] == \"l509\"]\n",
    "mouse_l509_df\n",
    "\n",
    "# Filter mousel509 df for time point and tumor vol\n",
    "l509_time_vol = mouse_l509_df[['Mouse ID','Timepoint','Tumor Volume (mm3)']]\n",
    "l509_time_vol = pd.DataFrame(l509_time_vol)\n",
    "\n",
    "# Set Mouse ID as index\n",
    "l509_time_vol.set_index(['Mouse ID'])\n",
    "\n",
    "# Set axises for line plot\n",
    "x_axis = l509_time_vol[\"Timepoint\"]\n",
    "y_axis = l509_time_vol[\"Tumor Volume (mm3)\"]\n",
    "\n",
    "# Make line plot\n",
    "plt.plot(x_axis,y_axis)\n",
    "tick_points = [value for value in x_axis]\n",
    "plt.xticks(tick_points,x_axis)\n",
    "\n",
    "# Make labels for the graph\n",
    "plt.title(\"Relationship Between Mouse-l509's Timpoint and Tumor Volume\")\n",
    "plt.xlabel(\"Timepoint\")\n",
    "plt.ylabel(\"Tumor Vol. (mm3)\")\n",
    "\n",
    "plt.tight_layout()\n",
    "# plt.savefig('./lyr_monthly_sales.png')\n",
    "plt.show()"
   ]
  },
  {
   "cell_type": "code",
   "execution_count": 135,
   "metadata": {},
   "outputs": [
    {
     "data": {
      "image/png": "[encoded data removed]",
      "text/plain": [
       "<Figure size 432x288 with 1 Axes>"
      ]
     },
     "metadata": {
      "needs_background": "light"
     },
     "output_type": "display_data"
    }
   ],
   "source": [
    "# Generate a scatter plot of mouse weight versus average tumor volume for the Capomulin regimen\n",
    "\n",
    "capomulin_df = mouse_study_df.loc[mouse_study_df[\"Drug Regimen\"] == \"Capomulin\"]\n",
    "\n",
    "capomulin_vol_g = capomulin_df[['Mouse ID', 'Weight (g)','Tumor Volume (mm3)']]\n",
    "capomulin_vol_g= pd.DataFrame(capomulin_vol_g)\n",
    "\n",
    "# Groupby Mouse ID and calculate tumor volume and weight average\n",
    "avg_capomulin_vol = capomulin_vol_g.groupby('Mouse ID').mean()['Tumor Volume (mm3)']\n",
    "avg_capomulin_vol = pd.DataFrame(avg_capomulin_vol)\n",
    "\n",
    "avg_capomulin_g = capomulin_vol_g.groupby('Mouse ID').mean()['Weight (g)']\n",
    "avg_capomulin_g = pd.DataFrame(avg_capomulin_g)\n",
    "\n",
    "# Merge the two dataframes\n",
    "avg_capomulin_volg = pd.merge(avg_capomulin_vol, avg_capomulin_g, on=\"Mouse ID\")\n",
    "avg_capomulin_volg\n",
    "\n",
    "# Set axises for line plot\n",
    "x_axis = avg_capomulin_volg[\"Tumor Volume (mm3)\"]\n",
    "y_axis = avg_capomulin_volg['Weight (g)']\n",
    "\n",
    "# Make scatter plot and label graph\n",
    "plt.scatter(x_axis,y_axis)\n",
    "plt.title(\"Capomulin Mice: Average Weight v. Tumor Volume\")\n",
    "plt.xlabel(\"Tumor Vol. (mm3)\")\n",
    "plt.ylabel(\"Weight (g)\")\n",
    "\n",
    "plt.tight_layout()\n",
    "# plt.savefig('./lyr_monthly_sales.png')\n",
    "plt.show()"
   ]
  },
  {
   "cell_type": "code",
   "execution_count": 146,
   "metadata": {},
   "outputs": [
    {
     "name": "stdout",
     "output_type": "stream",
     "text": [
      "The correlation between weight (g) and tumor volume (mm3) is 0.84\n"
     ]
    },
    {
     "data": {
      "text/plain": [
       "Text(0, 0.5, 'Weight (g)')"
      ]
     },
     "execution_count": 146,
     "metadata": {},
     "output_type": "execute_result"
    },
    {
     "data": {
      "image/png": "[encoded data removed]",
      "text/plain": [
       "<Figure size 432x288 with 1 Axes>"
      ]
     },
     "metadata": {
      "needs_background": "light"
     },
     "output_type": "display_data"
    }
   ],
   "source": [
    "# Calculate the correlation coefficient and linear regression model for mouse weight and average tumor volume for the Capomulin regimen\n",
    "\n",
    "# Calculate correlation coefficient between weight and average tumor volume\n",
    "correlation = st.pearsonr(x_axis, y_axis)\n",
    "correlation\n",
    "print(f'The correlation between weight (g) and tumor volume (mm3) is {round(correlation[0],2)}')\n",
    "\n",
    "# Make linear regression model\n",
    "(slope, intercept, rvalue, pvalue, stderr) = linregress(x_axis,y_axis)\n",
    "regress_values = x_axis * slope + intercept\n",
    "line_eq = 'y = ' + str(round(slope,2)) + 'x + ' + str(round(intercept, 2))\n",
    "\n",
    "# Copy scatter plot from above and combine linear regression model\n",
    "plt.scatter(x_axis,y_axis)\n",
    "plt.plot(x_axis, regress_values, 'r-')\n",
    "plt.annotate(line_eq,(6,10), fontsize=15, color='red')\n",
    "plt.title(\"Capomulin Mice: Average Weight v. Tumor Volume\")\n",
    "plt.xlabel(\"Tumor Vol. (mm3)\")\n",
    "plt.ylabel(\"Weight (g)\")"
   ]
  },
  {
   "cell_type": "code",
   "execution_count": null,
   "metadata": {},
   "outputs": [],
   "source": []
  }
 ],
 "metadata": {
  "anaconda-cloud": {},
  "kernelspec": {
   "display_name": "Python 3",
   "language": "python",
   "name": "python3"
  },
  "language_info": {
   "codemirror_mode": {
    "name": "ipython",
    "version": 3
   },
   "file_extension": ".py",
   "mimetype": "text/x-python",
   "name": "python",
   "nbconvert_exporter": "python",
   "pygments_lexer": "ipython3",
   "version": "3.6.10"
  }
 },
 "nbformat": 4,
 "nbformat_minor": 2
}
